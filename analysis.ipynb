{
  "nbformat": 4,
  "nbformat_minor": 0,
  "metadata": {
    "colab": {
      "name": "analysis.ipynb",
      "provenance": [],
      "authorship_tag": "ABX9TyMeZNLOicfZpOKanCWb3wS0",
      "include_colab_link": true
    },
    "kernelspec": {
      "name": "python3",
      "display_name": "Python 3"
    },
    "language_info": {
      "name": "python"
    }
  },
  "cells": [
    {
      "cell_type": "markdown",
      "metadata": {
        "id": "view-in-github",
        "colab_type": "text"
      },
      "source": [
        "<a href=\"https://colab.research.google.com/github/wilsontang06/gender-bias-movies/blob/main/analysis.ipynb\" target=\"_parent\"><img src=\"https://colab.research.google.com/assets/colab-badge.svg\" alt=\"Open In Colab\"/></a>"
      ]
    },
    {
      "cell_type": "markdown",
      "metadata": {
        "id": "epOBSuuXjQ1r"
      },
      "source": [
        "\n",
        "# Analysis methods for analyzing gender bias in movies\n",
        "---\n",
        "\n"
      ]
    },
    {
      "cell_type": "markdown",
      "metadata": {
        "id": "BoY2nvXxje4e"
      },
      "source": [
        "## Connect to Google Drive"
      ]
    },
    {
      "cell_type": "code",
      "metadata": {
        "colab": {
          "base_uri": "https://localhost:8080/"
        },
        "id": "ULuvFw4ijMNM",
        "outputId": "fa78c8a4-f3db-43bc-9596-56f0244908d5"
      },
      "source": [
        "from google.colab import drive\n",
        "drive.mount('/content/drive')"
      ],
      "execution_count": 1,
      "outputs": [
        {
          "output_type": "stream",
          "name": "stdout",
          "text": [
            "Mounted at /content/drive\n"
          ]
        }
      ]
    },
    {
      "cell_type": "markdown",
      "metadata": {
        "id": "Odav4EIVmTVU"
      },
      "source": [
        "Imports"
      ]
    },
    {
      "cell_type": "code",
      "metadata": {
        "id": "hoL4d65mmShP"
      },
      "source": [
        "import pandas as pd"
      ],
      "execution_count": 2,
      "outputs": []
    },
    {
      "cell_type": "markdown",
      "metadata": {
        "id": "qgBxR9T-jeuS"
      },
      "source": [
        "## Load datasets from drive"
      ]
    },
    {
      "cell_type": "code",
      "metadata": {
        "colab": {
          "base_uri": "https://localhost:8080/"
        },
        "id": "KvQ00UROk5wK",
        "outputId": "ec1dff45-6aeb-4b0d-d659-ee74361033fb"
      },
      "source": [
        "casts_csv = pd.read_csv('/content/drive/MyDrive/cse481ds-gender-bias/casts.csv')\n",
        "\n",
        "# Black panther script\n",
        "bp_script = open('/content/drive/MyDrive/cse481ds-gender-bias/parsed-scripts/dialogue/Black-Panther_dialogue.txt')\n",
        "\n",
        "print(casts_csv)\n",
        "print(bp_script)"
      ],
      "execution_count": 6,
      "outputs": [
        {
          "output_type": "stream",
          "name": "stdout",
          "text": [
            "           id            title  ...  order                      profile_path\n",
            "0         862        Toy Story  ...      0  /pQFoyx7rp09CJTAb932F2g8Nlho.jpg\n",
            "1         862        Toy Story  ...      1  /uX2xVf6pMmPepxnvFWyBtjexzgY.jpg\n",
            "2         862        Toy Story  ...      2  /h5BcaDMPRVLHLDzbQavec4xfSdt.jpg\n",
            "3         862        Toy Story  ...      3  /eIo2jVVXYgjDtaHoF19Ll9vtW7h.jpg\n",
            "4         862        Toy Story  ...      4  /oGE6JqPP2xH4tNORKNqxbNPYi7u.jpg\n",
            "...       ...              ...  ...    ...                               ...\n",
            "16055  324852  Despicable Me 3  ...     36  /ffeLktZ7JFCVK1uV2tuw4epSqz0.jpg\n",
            "16056  324852  Despicable Me 3  ...     37  /28JtvJrUIcHM4s8HV84ncxPD7Uv.jpg\n",
            "16057  324852  Despicable Me 3  ...     38  /xFQCDJCqDFnmwmIz1l9x5wNzJ2u.jpg\n",
            "16058  324852  Despicable Me 3  ...     39                               NaN\n",
            "16059  324852  Despicable Me 3  ...     40  /oB9wVbEIg8fjY3ulDKjKsGn2A55.jpg\n",
            "\n",
            "[16060 rows x 10 columns]\n",
            "<_io.TextIOWrapper name='/content/drive/MyDrive/cse481ds-gender-bias/parsed-scripts/dialogue/Black-Panther_dialogue.txt' mode='r' encoding='UTF-8'>\n"
          ]
        }
      ]
    },
    {
      "cell_type": "markdown",
      "metadata": {
        "id": "1ANC7t-gnAwC"
      },
      "source": [
        "## Line Distribution"
      ]
    },
    {
      "cell_type": "markdown",
      "metadata": {
        "id": "MtNrhXjOnCit"
      },
      "source": [
        "## Word Choice"
      ]
    },
    {
      "cell_type": "markdown",
      "metadata": {
        "id": "L4QEX_UZnDmK"
      },
      "source": [
        "## Sentiment analysis"
      ]
    }
  ]
}